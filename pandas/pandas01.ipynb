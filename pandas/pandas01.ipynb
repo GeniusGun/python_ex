{
  "nbformat": 4,
  "nbformat_minor": 0,
  "metadata": {
    "colab": {
      "name": "pandas.ipynb",
      "provenance": [],
      "toc_visible": true,
      "include_colab_link": true
    },
    "kernelspec": {
      "name": "python3",
      "display_name": "Python 3"
    }
  },
  "cells": [
    {
      "cell_type": "markdown",
      "metadata": {
        "id": "view-in-github",
        "colab_type": "text"
      },
      "source": [
        "<a href=\"https://colab.research.google.com/github/GeniusGun/tf/blob/master/pandas/pandas01.ipynb\" target=\"_parent\"><img src=\"https://colab.research.google.com/assets/colab-badge.svg\" alt=\"Open In Colab\"/></a>"
      ]
    },
    {
      "cell_type": "code",
      "metadata": {
        "id": "KMLHpX6oNByT",
        "colab_type": "code",
        "colab": {
          "base_uri": "https://localhost:8080/",
          "height": 35
        },
        "outputId": "5ae4acdc-bbbd-4bd6-b6da-1b5d0dca04d5"
      },
      "source": [
        "from google.colab import drive\n",
        "drive.mount('/content/drive')"
      ],
      "execution_count": 2,
      "outputs": [
        {
          "output_type": "stream",
          "text": [
            "Drive already mounted at /content/drive; to attempt to forcibly remount, call drive.mount(\"/content/drive\", force_remount=True).\n"
          ],
          "name": "stdout"
        }
      ]
    },
    {
      "cell_type": "code",
      "metadata": {
        "id": "diYK5wIdN2w1",
        "colab_type": "code",
        "outputId": "a803e90d-893e-450c-eef8-4adce115fe5c",
        "colab": {
          "base_uri": "https://localhost:8080/",
          "height": 611
        }
      },
      "source": [
        "import pandas as pd\n",
        "\n",
        "df = pd.read_csv('/content/drive/My Drive/doit_pandas-master/data/gapminder.tsv', sep = '\\t')   # 갭마인더데이터 불러오기\n",
        "\n",
        "print(df.head())    # 상위5개 데이터\n",
        "print('-'*90)\n",
        "print(type(df))     # 자료형 확인\n",
        "print('-'*90)\n",
        "print(df.shape)     # 행과 열의 크기정보\n",
        "print('-'*90)\n",
        "print(df.columns)   # 데이터프레임의 열정보\n",
        "print('-'*90)\n",
        "print(df.dtypes)    # 각각의 열과 데이터프레임에 대한 정보\n",
        "print('-'*90)\n",
        "print(df.info())    # 데이터프레임의 정보"
      ],
      "execution_count": 3,
      "outputs": [
        {
          "output_type": "stream",
          "text": [
            "       country continent  year  lifeExp       pop   gdpPercap\n",
            "0  Afghanistan      Asia  1952   28.801   8425333  779.445314\n",
            "1  Afghanistan      Asia  1957   30.332   9240934  820.853030\n",
            "2  Afghanistan      Asia  1962   31.997  10267083  853.100710\n",
            "3  Afghanistan      Asia  1967   34.020  11537966  836.197138\n",
            "4  Afghanistan      Asia  1972   36.088  13079460  739.981106\n",
            "------------------------------------------------------------------------------------------\n",
            "<class 'pandas.core.frame.DataFrame'>\n",
            "------------------------------------------------------------------------------------------\n",
            "(1704, 6)\n",
            "------------------------------------------------------------------------------------------\n",
            "Index(['country', 'continent', 'year', 'lifeExp', 'pop', 'gdpPercap'], dtype='object')\n",
            "------------------------------------------------------------------------------------------\n",
            "country       object\n",
            "continent     object\n",
            "year           int64\n",
            "lifeExp      float64\n",
            "pop            int64\n",
            "gdpPercap    float64\n",
            "dtype: object\n",
            "------------------------------------------------------------------------------------------\n",
            "<class 'pandas.core.frame.DataFrame'>\n",
            "RangeIndex: 1704 entries, 0 to 1703\n",
            "Data columns (total 6 columns):\n",
            "country      1704 non-null object\n",
            "continent    1704 non-null object\n",
            "year         1704 non-null int64\n",
            "lifeExp      1704 non-null float64\n",
            "pop          1704 non-null int64\n",
            "gdpPercap    1704 non-null float64\n",
            "dtypes: float64(2), int64(2), object(2)\n",
            "memory usage: 80.0+ KB\n",
            "None\n"
          ],
          "name": "stdout"
        }
      ]
    },
    {
      "cell_type": "markdown",
      "metadata": {
        "id": "VQRQKKHccQZ1",
        "colab_type": "text"
      },
      "source": [
        "### **판다스와 파이썬 자료형 비교**\n",
        "```\n",
        "판다스 자료형     파이썬 자료형     설명 \n",
        "------------------------------------------\n",
        "object            string            문자열\n",
        "int64             int               정수\n",
        "float64           float             실수\n",
        "datetime64        datetime          파이썬 표준 라이브러리인 datatime이 반환하는 자료형\n",
        "```"
      ]
    },
    {
      "cell_type": "markdown",
      "metadata": {
        "id": "gigkbPLmeMHz",
        "colab_type": "text"
      },
      "source": [
        "# 01-2 데이터 추출하기\n",
        "> 지금까지 데이터 프레임의 크기와 자료형을 살펴보는 방법에 대해 알아 보았습니다. 앞에서 head 매서드를 이요해 데이터 프레임에서 가장 앞에있는 5개의 데이터를 추출하여 출력했던 것을 기억하나요? 이번에는 데이터 프레임에서 데이터를 열 단위로 추출하는 방법과 행 단위로 추출하는 방법을 알아 보겠습니다. 먼저 열 단위로 데이터를 추출하는 방법을 알아 보겠습니다. "
      ]
    },
    {
      "cell_type": "markdown",
      "metadata": {
        "id": "19L5h3w-eNun",
        "colab_type": "text"
      },
      "source": [
        "## [1] 열단위 데이터 추출하기\n",
        ">데이터 프레임에서 데이터를 열 단위로 추출하려면 대괋로와 열 이름을 사용해야 합니다. 이때 꼭 열 이름은 작은 따옴표를 사용해서 지정해야 하고 추출한 열은 변수에 저장해서 사용할 수도 있습니다. 이때 1개의 열만 추출하면 시리즈를 얻을 수 있소 2개 이상의 열을 추출하면 데이터프레임을 얻을 수 있습니다."
      ]
    },
    {
      "cell_type": "markdown",
      "metadata": {
        "id": "X53-mepEgFIX",
        "colab_type": "text"
      },
      "source": [
        "### (1) 열단위로 데이터 추출하기\n"
      ]
    },
    {
      "cell_type": "markdown",
      "metadata": {
        "id": "P7eaggntd8UW",
        "colab_type": "text"
      },
      "source": [
        "####_1._ \n",
        "> 다음은 데이터프레임(df)에서 열이름이 country인 열을 추출하며 county_df에 저장한 것입니다. type 매서드를 이용하면 country_df에 저장된 데이터의 자료형이 시리즈라는 것을 확인할 수 있습니다. 시리즈도 head, tail 메서드를 가지고 있기 때문에 head, tail 메서드로 가장 앞이나 뒤에 있는 5개의 데이터를 출력할 수 있습니다."
      ]
    },
    {
      "cell_type": "code",
      "metadata": {
        "id": "JGzOGBkHWITt",
        "colab_type": "code",
        "outputId": "3f0bf2d0-21e6-4994-a105-25d4dcec0e6c",
        "colab": {
          "base_uri": "https://localhost:8080/",
          "height": 287
        }
      },
      "source": [
        "country_df = df['country']\n",
        "print(type(country_df))\n",
        "print('-'*50)\n",
        "print(country_df.head())\n",
        "print('-'*50)\n",
        "print(country_df.tail())"
      ],
      "execution_count": 4,
      "outputs": [
        {
          "output_type": "stream",
          "text": [
            "<class 'pandas.core.series.Series'>\n",
            "--------------------------------------------------\n",
            "0    Afghanistan\n",
            "1    Afghanistan\n",
            "2    Afghanistan\n",
            "3    Afghanistan\n",
            "4    Afghanistan\n",
            "Name: country, dtype: object\n",
            "--------------------------------------------------\n",
            "1699    Zimbabwe\n",
            "1700    Zimbabwe\n",
            "1701    Zimbabwe\n",
            "1702    Zimbabwe\n",
            "1703    Zimbabwe\n",
            "Name: country, dtype: object\n"
          ],
          "name": "stdout"
        }
      ]
    },
    {
      "cell_type": "markdown",
      "metadata": {
        "id": "CuCwsTwgXlgJ",
        "colab_type": "text"
      },
      "source": [
        "####_2._ \n",
        "> 리스트에 열 이름을 전달하면 여러개의 열을 항번에 추출할 수 있습니다. 가음은 열 이 름이  country, continent, year인 열을 추출하여 변수 subset에 저장한 것입니다. 이때 1개의 열이 아니라 2개 이상의 열을 추출했기 때문에 시리즈가 아니라 데이터프레임을 얻을 수 있습니다."
      ]
    },
    {
      "cell_type": "code",
      "metadata": {
        "id": "gDN5hhU-XlE9",
        "colab_type": "code",
        "outputId": "0d97b2d1-1725-489e-89f2-f27977aef18f",
        "colab": {
          "base_uri": "https://localhost:8080/",
          "height": 557
        }
      },
      "source": [
        "subset = df[['country', 'continent', 'year']]\n",
        "print(type(subset))\n",
        "print('-'*50)\n",
        "print(subset)\n",
        "print('-'*50)\n",
        "print(subset.head())\n",
        "print('-'*50)\n",
        "print(subset.tail())"
      ],
      "execution_count": 5,
      "outputs": [
        {
          "output_type": "stream",
          "text": [
            "<class 'pandas.core.frame.DataFrame'>\n",
            "--------------------------------------------------\n",
            "          country continent  year\n",
            "0     Afghanistan      Asia  1952\n",
            "1     Afghanistan      Asia  1957\n",
            "2     Afghanistan      Asia  1962\n",
            "3     Afghanistan      Asia  1967\n",
            "4     Afghanistan      Asia  1972\n",
            "...           ...       ...   ...\n",
            "1699     Zimbabwe    Africa  1987\n",
            "1700     Zimbabwe    Africa  1992\n",
            "1701     Zimbabwe    Africa  1997\n",
            "1702     Zimbabwe    Africa  2002\n",
            "1703     Zimbabwe    Africa  2007\n",
            "\n",
            "[1704 rows x 3 columns]\n",
            "--------------------------------------------------\n",
            "       country continent  year\n",
            "0  Afghanistan      Asia  1952\n",
            "1  Afghanistan      Asia  1957\n",
            "2  Afghanistan      Asia  1962\n",
            "3  Afghanistan      Asia  1967\n",
            "4  Afghanistan      Asia  1972\n",
            "--------------------------------------------------\n",
            "       country continent  year\n",
            "1699  Zimbabwe    Africa  1987\n",
            "1700  Zimbabwe    Africa  1992\n",
            "1701  Zimbabwe    Africa  1997\n",
            "1702  Zimbabwe    Africa  2002\n",
            "1703  Zimbabwe    Africa  2007\n"
          ],
          "name": "stdout"
        }
      ]
    },
    {
      "cell_type": "markdown",
      "metadata": {
        "id": "W_mRHOcEYjQu",
        "colab_type": "text"
      },
      "source": [
        "## [2] 행단위 데이터 추출하기\n",
        ">이번에는 데이터를 행 단위로 추출하는 방법에 대해 알아 보겠습니다.  데이터를 행 단위로 추출하려면 loc, iloc 속성을 사용해야 합니다. 아래는 두 속성을 간단하게정리한 표 입니다.\n",
        ">\n",
        ">```\n",
        ">속성    설명\n",
        ">-----------------------------------------\n",
        ">loc     인덱스를 기준으로 행 데이터 추출 \n",
        ">iloc    행 번호를 기준으로 행 데이터 추출\n",
        ">```\n",
        ">표의 설명을 보면 인덱스 와 행 번호라는 것이 있습니다. 파이썬을 공부한 독자라면 리스트 같은 자료형에 저장된 데이터의 순서를 인덱스라고 알고 있습을 겁니다. 하지만 판다스에서는 이런 개념을 행 번로 하고 부릅니다.(판다스에서 인덱스는 조금 다른 의미로 사용됩니다.) 다음 예제를 실습하면서 판다스에서 말하는 인덱스와 행 번호가 무엇인지 알아보겠습니다."
      ]
    },
    {
      "cell_type": "markdown",
      "metadata": {
        "id": "Oi02REveZ9jT",
        "colab_type": "text"
      },
      "source": [
        "## [3] 인덱스와 행 번호 개념 알아보기\n",
        ">다은은 갭마인더 데이터 집합을 불러온 다음 head 메서드를 실행한 결과입니다.\n",
        "```\n",
        "       country continent  year  lifeExp       pop   gdpPercap\n",
        "0  Afghanistan      Asia  1952   28.801   8425333  779.445314\n",
        "1  Afghanistan      Asia  1957   30.332   9240934  820.853030\n",
        "2  Afghanistan      Asia  1962   31.997  10267083  853.100710\n",
        "3  Afghanistan      Asia  1967   34.020  11537966  836.197138\n",
        "4  Afghanistan      Asia  1972   36.088  13079460  739.981106\n",
        "```\n",
        "왼쪽의 번호가 보이나요? 바로 이것이 인덱스입니다. 인덱스는 보통 0부터 시작하지만 행데이터가 추가, 삭제되면 언제든지 변할 수 있으며 숫자가 아니라 문자열을 사용할 수도 있습니다. 즉, 인덱스는 first, second, third 같은 문자열로 지정할 수도 있습니다. 반면에 행 번호는 데이터의 순서에 따라가기 때문에 정수만으로 데이터를 조회하거나 추출할 수 있으며 실제 데이터프레임에서는 확인할 수 없 없는 값입니다.\n"
      ]
    },
    {
      "cell_type": "markdown",
      "metadata": {
        "id": "aLu6w6Hdel2T",
        "colab_type": "text"
      },
      "source": [
        "### (1) loc 속성으로 행 데이터 추출하기"
      ]
    },
    {
      "cell_type": "markdown",
      "metadata": {
        "id": "c1dagdz4bITz",
        "colab_type": "text"
      },
      "source": [
        "####_1._\n",
        "> loc속성에 대괄호를 이용하여 인덱스를 전달하면 행 데이터를 추출할 수 있습니다. 다음은 인덱스가 0인 행 데이터를 추출한 것입니다. 만약 -1과 같이 인덱스에 없응 값을 가용하면 오류가 발생하니 주의 하세요."
      ]
    },
    {
      "cell_type": "code",
      "metadata": {
        "id": "o0mjqWSSbbst",
        "colab_type": "code",
        "outputId": "b27bcb9d-e9da-446c-9e82-0323def807e1",
        "colab": {
          "base_uri": "https://localhost:8080/",
          "height": 287
        }
      },
      "source": [
        "print(df.loc[0])\n",
        "print('-'*30)\n",
        "print(df.loc[99])\n",
        "# print(df.loc[-1])     # error"
      ],
      "execution_count": 6,
      "outputs": [
        {
          "output_type": "stream",
          "text": [
            "country      Afghanistan\n",
            "continent           Asia\n",
            "year                1952\n",
            "lifeExp           28.801\n",
            "pop              8425333\n",
            "gdpPercap        779.445\n",
            "Name: 0, dtype: object\n",
            "------------------------------\n",
            "country      Bangladesh\n",
            "continent          Asia\n",
            "year               1967\n",
            "lifeExp          43.453\n",
            "pop            62821884\n",
            "gdpPercap       721.186\n",
            "Name: 99, dtype: object\n"
          ],
          "name": "stdout"
        }
      ]
    },
    {
      "cell_type": "markdown",
      "metadata": {
        "id": "lutapTrscC6j",
        "colab_type": "text"
      },
      "source": [
        "####_2._\n",
        "> 만약 데이터프레임의 마지막 행 데이터를 추출하려면 어떻게 해야 할싸요? 마지막 행 데이터의 인덱스를 알아내야 합니다. shape[0]에 행 크기가 (1704)가 저장되어 있다응 점을 이용하여 마지막 행의 인덱스를 구하면 됩니다. 다음은 shape[0]에서 1을 뺀 값으로 (1704 - 1 = 1703) 마지막 행 데이터를 추출한 것입니다."
      ]
    },
    {
      "cell_type": "code",
      "metadata": {
        "id": "gIkvU98eci_f",
        "colab_type": "code",
        "outputId": "acd694bf-4d08-43eb-9ada-b4b94ee7c0b5",
        "colab": {
          "base_uri": "https://localhost:8080/",
          "height": 143
        }
      },
      "source": [
        "number_of_rows = df.shape[0]        # shape[0] : 행 갯수, shape[1] : 열 갯수\n",
        "last_row_index = number_of_rows - 1\n",
        "print(df.loc[last_row_index])"
      ],
      "execution_count": 7,
      "outputs": [
        {
          "output_type": "stream",
          "text": [
            "country      Zimbabwe\n",
            "continent      Africa\n",
            "year             2007\n",
            "lifeExp        43.487\n",
            "pop          12311143\n",
            "gdpPercap     469.709\n",
            "Name: 1703, dtype: object\n"
          ],
          "name": "stdout"
        }
      ]
    },
    {
      "cell_type": "markdown",
      "metadata": {
        "id": "RT4SBjO3daNC",
        "colab_type": "text"
      },
      "source": [
        "####_3._\n",
        "> 데이터프레임의 마지막 행 데이터를 추출하는 또 다른 방법으로는  tail메서드를 사용하는 방법이 있습니다. 다음과 같이 tail메서드의 인자 n에 1을 전달하면 마지막 행의 데이터를 추출할 수 있습니다. (2를 전달하면 2개의 데이터를 추출할 수 있습니다) 이방법이 조금 더 유용하겠죠?"
      ]
    },
    {
      "cell_type": "code",
      "metadata": {
        "id": "jHoMsvBBdytc",
        "colab_type": "code",
        "outputId": "8bbc79cc-4eed-427e-93da-339d29515a83",
        "colab": {
          "base_uri": "https://localhost:8080/",
          "height": 53
        }
      },
      "source": [
        "print(df.tail(n = 1))"
      ],
      "execution_count": 8,
      "outputs": [
        {
          "output_type": "stream",
          "text": [
            "       country continent  year  lifeExp       pop   gdpPercap\n",
            "1703  Zimbabwe    Africa  2007   43.487  12311143  469.709298\n"
          ],
          "name": "stdout"
        }
      ]
    },
    {
      "cell_type": "markdown",
      "metadata": {
        "id": "eTVWatW1beg8",
        "colab_type": "text"
      },
      "source": [
        "4. 만약 인덱스가 0, 99, 999인 데이터를 한 번에 추출하려면 리스트에 원하는 인덱스를 담아 loc 속성에 전달하면 됩니다."
      ]
    },
    {
      "cell_type": "code",
      "metadata": {
        "id": "-RHT-JFkbtvy",
        "colab_type": "code",
        "outputId": "b87abf06-2ed0-4e33-ee10-4d99a417538e",
        "colab": {
          "base_uri": "https://localhost:8080/",
          "height": 89
        }
      },
      "source": [
        "print(df.loc[[0, 99, 999]])"
      ],
      "execution_count": 9,
      "outputs": [
        {
          "output_type": "stream",
          "text": [
            "         country continent  year  lifeExp       pop    gdpPercap\n",
            "0    Afghanistan      Asia  1952   28.801   8425333   779.445314\n",
            "99    Bangladesh      Asia  1967   43.453  62821884   721.186086\n",
            "999     Mongolia      Asia  1967   51.253   1149500  1226.041130\n"
          ],
          "name": "stdout"
        }
      ]
    },
    {
      "cell_type": "markdown",
      "metadata": {
        "id": "aT0jSUDccR0A",
        "colab_type": "text"
      },
      "source": [
        "#### _+_ 알아두면 좋아요!\n",
        ">tail 메서드와 loc 속성이 반환하는 자료형은 서로 달라요!\n",
        ">\n",
        ">tail 메서드와 loc 속성이 반환하는 데이터의 자료형인 다릅니다. 다음은 tail 메서드와 loc 속성으로 출력한 데이터의 자료형을 type메서드로 확인 한 것입니다. loc 속성이 반환한 데이터 자료형은 시리즈 이고, tail 메서드가 반환한 데이터 자료형은 데이터프레임 입니다."
      ]
    },
    {
      "cell_type": "code",
      "metadata": {
        "id": "Vzx_3JgAcOAy",
        "colab_type": "code",
        "outputId": "200ca9b5-ec8e-4c03-e85c-9dcace3b6ac6",
        "colab": {
          "base_uri": "https://localhost:8080/",
          "height": 53
        }
      },
      "source": [
        "subset_loc = df.loc[0]\n",
        "subset_tail = df.tail(n = 1)\n",
        "\n",
        "print(type(subset_loc))\n",
        "print(type(subset_tail))"
      ],
      "execution_count": 10,
      "outputs": [
        {
          "output_type": "stream",
          "text": [
            "<class 'pandas.core.series.Series'>\n",
            "<class 'pandas.core.frame.DataFrame'>\n"
          ],
          "name": "stdout"
        }
      ]
    },
    {
      "cell_type": "markdown",
      "metadata": {
        "id": "EvJ2FV9ifX3u",
        "colab_type": "text"
      },
      "source": [
        "### (2) iloc 속성으로 행 데이터 추출하기"
      ]
    },
    {
      "cell_type": "markdown",
      "metadata": {
        "id": "VK5KrotxfcQT",
        "colab_type": "text"
      },
      "source": [
        "#### _1._\n",
        "> 이번에는 iloc 속성으로 행 데이터를 추출하는 방법에 대해 알아보겠습니다. loc 속성은 대아터프레임의 인덱스를 사용하여 데이터를 추출했지만 iloc 속성은 데이터 순서를 의미하는 행 번호를 사용하여 데이터를 추출합니다. 지금은 인덱스와 행 번호가 동일하여 동일한 결과값이 출력됩니다. 다음은 iloc 속성에 1을 전달하여 데이터를 추출한 것입니다."
      ]
    },
    {
      "cell_type": "code",
      "metadata": {
        "id": "kjzk_itOf5Rt",
        "colab_type": "code",
        "outputId": "5d2786fe-7a19-4d6d-c215-55ef994fb2d6",
        "colab": {
          "base_uri": "https://localhost:8080/",
          "height": 287
        }
      },
      "source": [
        "print(df.iloc[1])\n",
        "print('-'*30)\n",
        "print(df.iloc[99])"
      ],
      "execution_count": 11,
      "outputs": [
        {
          "output_type": "stream",
          "text": [
            "country      Afghanistan\n",
            "continent           Asia\n",
            "year                1957\n",
            "lifeExp           30.332\n",
            "pop              9240934\n",
            "gdpPercap        820.853\n",
            "Name: 1, dtype: object\n",
            "------------------------------\n",
            "country      Bangladesh\n",
            "continent          Asia\n",
            "year               1967\n",
            "lifeExp          43.453\n",
            "pop            62821884\n",
            "gdpPercap       721.186\n",
            "Name: 99, dtype: object\n"
          ],
          "name": "stdout"
        }
      ]
    },
    {
      "cell_type": "markdown",
      "metadata": {
        "id": "p-nlRb_63k8z",
        "colab_type": "text"
      },
      "source": [
        "#### _2._ \n",
        ">iloc 속성은 음수를 사용해도 데이터를 추출할 수 있습니다. 다음은 -1을 전달하여 마지막 행 데이터를 추출한 것입니다. 하지만 데이터프레임에 아예 존재하지 않는 행 번호를 전달하면 오류가 발생합니다."
      ]
    },
    {
      "cell_type": "code",
      "metadata": {
        "id": "xcPYXZqU32Za",
        "colab_type": "code",
        "outputId": "5f408f70-438f-4bd6-fee0-6becad018b2b",
        "colab": {
          "base_uri": "https://localhost:8080/",
          "height": 143
        }
      },
      "source": [
        "print(df.iloc[-1])          #iloc 속성은 -1을 사용하여 마지막 행 데이터를 추출할 수 있습니다.\n",
        "# print(df.iloc[1710])      # error"
      ],
      "execution_count": 12,
      "outputs": [
        {
          "output_type": "stream",
          "text": [
            "country      Zimbabwe\n",
            "continent      Africa\n",
            "year             2007\n",
            "lifeExp        43.487\n",
            "pop          12311143\n",
            "gdpPercap     469.709\n",
            "Name: 1703, dtype: object\n"
          ],
          "name": "stdout"
        }
      ]
    },
    {
      "cell_type": "markdown",
      "metadata": {
        "id": "VfHzGHmH4HZv",
        "colab_type": "text"
      },
      "source": [
        "#### _3._ \n",
        ">iloc 속성도 여러 데이터를 한 번에 추출할 수 있습니다. loc 속성을 사용했던 것처럼 원하는 데이터의 행 번호를 리스트에 담아 전달하면 됩니다."
      ]
    },
    {
      "cell_type": "code",
      "metadata": {
        "id": "mlV278U04F5i",
        "colab_type": "code",
        "outputId": "6777b2ae-265b-4962-bd00-56e271d15463",
        "colab": {
          "base_uri": "https://localhost:8080/",
          "height": 89
        }
      },
      "source": [
        "print(df.iloc[[0, 99, 999]])"
      ],
      "execution_count": 13,
      "outputs": [
        {
          "output_type": "stream",
          "text": [
            "         country continent  year  lifeExp       pop    gdpPercap\n",
            "0    Afghanistan      Asia  1952   28.801   8425333   779.445314\n",
            "99    Bangladesh      Asia  1967   43.453  62821884   721.186086\n",
            "999     Mongolia      Asia  1967   51.253   1149500  1226.041130\n"
          ],
          "name": "stdout"
        }
      ]
    },
    {
      "cell_type": "markdown",
      "metadata": {
        "id": "3Dwg0hkj4m2a",
        "colab_type": "text"
      },
      "source": [
        "## [4] loc, iloc 속성 자유자재로 사용하기\n",
        ">loc, iloc 속성을 좀 더 자유자재로 사용하려면 추출할 데이터의 행과 열을 지정하는 방법을 알아야 합니다. 두 속성을 모두 추출할 데이터의 행을 먼저 지정하고 그런 다음 열을 지정하는 방법으로 데이터를 추출합니다. 즉,  df.loc[[행], [열]]이나 df.iloc[[행], [열]]과같은 방법으로 코드를 작성하면 됩니다.\n",
        ">\n",
        ">이때 행과 열을 지정하는 방법은 슬라이싱 구문을 사용하는 방법과 range 메서드를 사용하는 방법이 있습니다. 먼서 슬라이싱 구문으로 원하는 데이터를 추출하는 방법은 알아보겠습니다."
      ]
    },
    {
      "cell_type": "markdown",
      "metadata": {
        "id": "pl69WLWB5iQR",
        "colab_type": "text"
      },
      "source": [
        "### (1) 데이터 추출하기 - 슬라이싱 구문, range 메서드"
      ]
    },
    {
      "cell_type": "markdown",
      "metadata": {
        "id": "PFBoF1yP5nE5",
        "colab_type": "text"
      },
      "source": [
        "#### _1._ 슬라이싱 구문으로 데이터 추출하기\n",
        ">다음은 모든 행(:) 데이터에 대해 year, pop 열을 추출하는 방법입니다. 이때 loc와 iloc 속성에 전달하는 열 지정값은 반드시 형식에 맞게 전달해야 합니다. 예를 들어 loc 속성의 열 지정값에 정수 리스트를 전달하면 오류가 발생합니다. 반대로 iloc 속성에 속성의 열 지정값에 문자열 리스트를 전달하면 오류가 발생합니다."
      ]
    },
    {
      "cell_type": "code",
      "metadata": {
        "id": "JqV2--qI4lNJ",
        "colab_type": "code",
        "outputId": "dcb4c10e-4d7c-4a86-eefc-523c06523d87",
        "colab": {
          "base_uri": "https://localhost:8080/",
          "height": 251
        }
      },
      "source": [
        "subset = df.loc[:, ['year', 'pop']]\n",
        "print(subset.head())\n",
        "\n",
        "print('-'*30)\n",
        "\n",
        "subset = df.iloc[:, [2, 4, -1]]\n",
        "print(subset.head())"
      ],
      "execution_count": 14,
      "outputs": [
        {
          "output_type": "stream",
          "text": [
            "   year       pop\n",
            "0  1952   8425333\n",
            "1  1957   9240934\n",
            "2  1962  10267083\n",
            "3  1967  11537966\n",
            "4  1972  13079460\n",
            "------------------------------\n",
            "   year       pop   gdpPercap\n",
            "0  1952   8425333  779.445314\n",
            "1  1957   9240934  820.853030\n",
            "2  1962  10267083  853.100710\n",
            "3  1967  11537966  836.197138\n",
            "4  1972  13079460  739.981106\n"
          ],
          "name": "stdout"
        }
      ]
    },
    {
      "cell_type": "markdown",
      "metadata": {
        "id": "KztYcvAtBWyd",
        "colab_type": "text"
      },
      "source": [
        "#### _2._ range 메서드로 데이터 추출하기\n",
        ">이번에는 iloc 속성과 내장 메서드인 range를 응용하는 방젖을 알아보겠습니다. range 메서드는 지정한 구간의 정수 리스트를 반환해 줍니다. iloc 속성의 열 지정 값에는 정수 리스트를 전달해야 한다는 점과 range 메서드의 반환값이 정수 리스트인 점을 이용하여 원라는 데이터를 추출하는 것이죠.\n",
        ">\n",
        ">그런데 range 메서드는 조금 더 정확하게 말하면 지정한 범위의 정수 리스트를 반환하는 것이 아니라 제네레이터를 반환합니다. iloc 속성은 제네레이터로 데이터 추출을 할 수 없습니다. 다행히 제네레이터는 간단하게 리스트로 변환할 수 있습니다. 다음은 range(5)가 반환한 제네레이터를 정수값을 가진 리스트 [0, 1, 2, 3, 4]로 변환하여 iloc의 열 지정값에 전달한 것입니다. 자주 사용하는 방법은 아니지만 알아두면 유용할 것입니다."
      ]
    },
    {
      "cell_type": "code",
      "metadata": {
        "id": "EuZvdxvuGp5_",
        "colab_type": "code",
        "outputId": "493dd67c-3810-44a0-fc5f-529a6e511d19",
        "colab": {
          "base_uri": "https://localhost:8080/",
          "height": 359
        }
      },
      "source": [
        "small_range = list(range(5))\n",
        "print(small_range)\n",
        "print('-'*50)\n",
        "\n",
        "print(type(small_range))\n",
        "print('-'*50)\n",
        "\n",
        "subset = df.iloc[:, small_range]\n",
        "print(subset.head())\n",
        "print('-'*50)\n",
        "\n",
        "small_range = list(range(3, 6))\n",
        "print(small_range)\n",
        "print('-'*50)\n",
        "\n",
        "subset = df.iloc[:, small_range]\n",
        "print(subset.head())"
      ],
      "execution_count": 15,
      "outputs": [
        {
          "output_type": "stream",
          "text": [
            "[0, 1, 2, 3, 4]\n",
            "--------------------------------------------------\n",
            "<class 'list'>\n",
            "--------------------------------------------------\n",
            "       country continent  year  lifeExp       pop\n",
            "0  Afghanistan      Asia  1952   28.801   8425333\n",
            "1  Afghanistan      Asia  1957   30.332   9240934\n",
            "2  Afghanistan      Asia  1962   31.997  10267083\n",
            "3  Afghanistan      Asia  1967   34.020  11537966\n",
            "4  Afghanistan      Asia  1972   36.088  13079460\n",
            "--------------------------------------------------\n",
            "[3, 4, 5]\n",
            "--------------------------------------------------\n",
            "   lifeExp       pop   gdpPercap\n",
            "0   28.801   8425333  779.445314\n",
            "1   30.332   9240934  820.853030\n",
            "2   31.997  10267083  853.100710\n",
            "3   34.020  11537966  836.197138\n",
            "4   36.088  13079460  739.981106\n"
          ],
          "name": "stdout"
        }
      ]
    },
    {
      "cell_type": "markdown",
      "metadata": {
        "id": "NA9WxC4LRmkJ",
        "colab_type": "text"
      },
      "source": [
        "####_3._\n",
        ">range 메서드에 대해서 조금 더 알아보겠습니다. range 메서드에 range(0, 6, 2)와 같은 방법으로 3개의 인자를 전달하면 어떻게 될까요? 0부터 5까지 2만큼 건너뛰는 제네레이터를 생성합니다. 이 제네레이터를 리스트로 변환하면 범위는 0~5이고 짝수로 된 정수 리스트를 얻을수 있습니다."
      ]
    },
    {
      "cell_type": "code",
      "metadata": {
        "id": "dl0HI5A-Lome",
        "colab_type": "code",
        "colab": {
          "base_uri": "https://localhost:8080/",
          "height": 125
        },
        "outputId": "8664395d-28a7-4f97-fd62-ee85d44f8448"
      },
      "source": [
        "small_range = list(range(0, 6, 2))\n",
        "subset = df.iloc[:, small_range]\n",
        "print(subset.head())"
      ],
      "execution_count": 16,
      "outputs": [
        {
          "output_type": "stream",
          "text": [
            "       country  year       pop\n",
            "0  Afghanistan  1952   8425333\n",
            "1  Afghanistan  1957   9240934\n",
            "2  Afghanistan  1962  10267083\n",
            "3  Afghanistan  1967  11537966\n",
            "4  Afghanistan  1972  13079460\n"
          ],
          "name": "stdout"
        }
      ]
    },
    {
      "cell_type": "markdown",
      "metadata": {
        "id": "oUOp2fFsNYxc",
        "colab_type": "text"
      },
      "source": [
        "#### _4._ 슬라이싱 구문과 range 메서드 비교하기\n",
        ">그런데 실무에서는 range 메서드 보다는 간편하게 사용할 수 있는 파이썬 슬라이싱 구문을 더 선호합니다. range 메서드가 반환한 제네레이터를 리스트로 변환하는 등의 과정을 거치지 않아도 되기 때문입니다. 예를 들어 list(range(3))과 [:3]의 결과값은 동일합니다.\n"
      ]
    },
    {
      "cell_type": "code",
      "metadata": {
        "id": "uu1m_vz_OBZZ",
        "colab_type": "code",
        "colab": {
          "base_uri": "https://localhost:8080/",
          "height": 251
        },
        "outputId": "d7c04106-1eb3-40c4-ed4c-5a4091a10df1"
      },
      "source": [
        "subset = df.iloc[:, :3]             # 슬라이싱\n",
        "print(subset.head())\n",
        "\n",
        "print('-'*32)\n",
        "\n",
        "small_range = list(range(3))        # range 메서드\n",
        "subset = df.iloc[:, small_range]\n",
        "print(subset.head())"
      ],
      "execution_count": 17,
      "outputs": [
        {
          "output_type": "stream",
          "text": [
            "       country continent  year\n",
            "0  Afghanistan      Asia  1952\n",
            "1  Afghanistan      Asia  1957\n",
            "2  Afghanistan      Asia  1962\n",
            "3  Afghanistan      Asia  1967\n",
            "4  Afghanistan      Asia  1972\n",
            "--------------------------------\n",
            "       country continent  year\n",
            "0  Afghanistan      Asia  1952\n",
            "1  Afghanistan      Asia  1957\n",
            "2  Afghanistan      Asia  1962\n",
            "3  Afghanistan      Asia  1967\n",
            "4  Afghanistan      Asia  1972\n"
          ],
          "name": "stdout"
        }
      ]
    },
    {
      "cell_type": "markdown",
      "metadata": {
        "id": "2K9-q1tNQnLI",
        "colab_type": "text"
      },
      "source": [
        "#### _5._\n",
        ">0:6:2를 열 지정값에 전달하면 [ 과정 _3._ ] 에서 얻은 결과값과 동일한 결과값을 얻을 수 있습니다. range 메서드와 슬라이싱 구문을 비교해 보세요.\n",
        "```\n",
        "[ 과정 3 ]\n",
        "small_range = list(range(0, 6, 2))\n",
        "subset = df.iloc[:, small_range]\n",
        "print(subset.head())\n",
        ">\n",
        ">[ 과정 3 결과 ] \n",
        "       country  year       pop\n",
        "0  Afghanistan  1952   8425333\n",
        "1  Afghanistan  1957   9240934\n",
        "2  Afghanistan  1962  10267083\n",
        "3  Afghanistan  1967  11537966\n",
        "4  Afghanistan  1972  13079460\n",
        "```\n"
      ]
    },
    {
      "cell_type": "code",
      "metadata": {
        "id": "cOwC_lbURU4Z",
        "colab_type": "code",
        "colab": {
          "base_uri": "https://localhost:8080/",
          "height": 125
        },
        "outputId": "3af72032-c3a1-4094-ad7d-68ae862df55f"
      },
      "source": [
        "subset = df.iloc[:, 0:6:2]\n",
        "print(subset.head())"
      ],
      "execution_count": 18,
      "outputs": [
        {
          "output_type": "stream",
          "text": [
            "       country  year       pop\n",
            "0  Afghanistan  1952   8425333\n",
            "1  Afghanistan  1957   9240934\n",
            "2  Afghanistan  1962  10267083\n",
            "3  Afghanistan  1967  11537966\n",
            "4  Afghanistan  1972  13079460\n"
          ],
          "name": "stdout"
        }
      ]
    },
    {
      "cell_type": "markdown",
      "metadata": {
        "id": "QqtFeoCSSylv",
        "colab_type": "text"
      },
      "source": [
        "#### _6._ loc, iloc 속성 자유자재로 사용하기\n",
        ">만약 iloc 속성으로 0, 99, 999번째 행의 0, 3, 5번째 열 데이터를 추출하려면 다음과 같이 코드를 작성하면 됩니다."
      ]
    },
    {
      "cell_type": "code",
      "metadata": {
        "id": "QAZoQEiGSNI6",
        "colab_type": "code",
        "colab": {
          "base_uri": "https://localhost:8080/",
          "height": 89
        },
        "outputId": "61878124-6569-422f-8496-6996012f81a0"
      },
      "source": [
        "print(df.iloc[[0, 99, 999], [0, 3, 5]])"
      ],
      "execution_count": 19,
      "outputs": [
        {
          "output_type": "stream",
          "text": [
            "         country  lifeExp    gdpPercap\n",
            "0    Afghanistan   28.801   779.445314\n",
            "99    Bangladesh   43.453   721.186086\n",
            "999     Mongolia   51.253  1226.041130\n"
          ],
          "name": "stdout"
        }
      ]
    },
    {
      "cell_type": "markdown",
      "metadata": {
        "id": "rywCJGHCTinE",
        "colab_type": "text"
      },
      "source": [
        "#### _7._\n",
        ">iloc 속성의 열 지정값으로 정수 리스트를 전달하는 것이 간편해 보일 수 있지만 이렇게 작성한 코드는 나중에 어떤 데이터를 추출하기 위한 코드인지 파악하지 못 할수도 있습니다. 그래서 보통은 다음과 간은 방법으로 loc 속성을 이용하여 열 지정값으로 열 이름을 전달합니다."
      ]
    },
    {
      "cell_type": "code",
      "metadata": {
        "id": "8vxig3WjT3zy",
        "colab_type": "code",
        "colab": {
          "base_uri": "https://localhost:8080/",
          "height": 89
        },
        "outputId": "918f7673-9173-43a0-943f-a62470d65af6"
      },
      "source": [
        "print(df.loc[[0, 99, 999], ['country', 'lifeExp', 'gdpPercap']])"
      ],
      "execution_count": 20,
      "outputs": [
        {
          "output_type": "stream",
          "text": [
            "         country  lifeExp    gdpPercap\n",
            "0    Afghanistan   28.801   779.445314\n",
            "99    Bangladesh   43.453   721.186086\n",
            "999     Mongolia   51.253  1226.041130\n"
          ],
          "name": "stdout"
        }
      ]
    },
    {
      "cell_type": "markdown",
      "metadata": {
        "id": "7dQvjM-gUO3S",
        "colab_type": "text"
      },
      "source": [
        "#### _8._\n",
        ">앞에서 배운 내용을 모두 응용하여 데이터를 추출해 보겠습니다. 다음은 인덱스가 10부터 13인 행의 country, lifeExp, gdpPercap 열 데이터를 추출하는 코드입니다."
      ]
    },
    {
      "cell_type": "code",
      "metadata": {
        "id": "sqPdHF5GUjuO",
        "colab_type": "code",
        "colab": {
          "base_uri": "https://localhost:8080/",
          "height": 107
        },
        "outputId": "b33e48ae-560c-473c-99a9-2569befe16e6"
      },
      "source": [
        "print(df.loc[10:13, ['country', 'lifeExp', 'gdpPercap']])"
      ],
      "execution_count": 21,
      "outputs": [
        {
          "output_type": "stream",
          "text": [
            "        country  lifeExp    gdpPercap\n",
            "10  Afghanistan   42.129   726.734055\n",
            "11  Afghanistan   43.828   974.580338\n",
            "12      Albania   55.230  1601.056136\n",
            "13      Albania   59.280  1942.284244\n"
          ],
          "name": "stdout"
        }
      ]
    },
    {
      "cell_type": "markdown",
      "metadata": {
        "id": "aYGULtmxS3tg",
        "colab_type": "text"
      },
      "source": [
        "# 02-3 기초적인 통계 계산하기\n",
        ">지금까지는 데이터를 추출하는 방법에 대해 알아보았습니다. 이번에는 추출한 데이터를 가지고 몇 가지 기초적인 통계 계산을 해보겠습니다. 다음은 갭마인더 데이터 집합에서 0~9번째 데이터를 추출하여 출력한 것입니다."
      ]
    },
    {
      "cell_type": "code",
      "metadata": {
        "id": "duz50nPdTnwD",
        "colab_type": "code",
        "colab": {
          "base_uri": "https://localhost:8080/",
          "height": 215
        },
        "outputId": "636bb2b2-4c43-4918-bc5d-e5985cf941a8"
      },
      "source": [
        "print(df.head(n=10))"
      ],
      "execution_count": 22,
      "outputs": [
        {
          "output_type": "stream",
          "text": [
            "       country continent  year  lifeExp       pop   gdpPercap\n",
            "0  Afghanistan      Asia  1952   28.801   8425333  779.445314\n",
            "1  Afghanistan      Asia  1957   30.332   9240934  820.853030\n",
            "2  Afghanistan      Asia  1962   31.997  10267083  853.100710\n",
            "3  Afghanistan      Asia  1967   34.020  11537966  836.197138\n",
            "4  Afghanistan      Asia  1972   36.088  13079460  739.981106\n",
            "5  Afghanistan      Asia  1977   38.438  14880372  786.113360\n",
            "6  Afghanistan      Asia  1982   39.854  12881816  978.011439\n",
            "7  Afghanistan      Asia  1987   40.822  13867957  852.395945\n",
            "8  Afghanistan      Asia  1992   41.674  16317921  649.341395\n",
            "9  Afghanistan      Asia  1997   41.763  22227415  635.341351\n"
          ],
          "name": "stdout"
        }
      ]
    },
    {
      "cell_type": "markdown",
      "metadata": {
        "id": "sapZav_7T5Qk",
        "colab_type": "text"
      },
      "source": [
        "### (1) 그룹화한 데이터의 평균 구하기"
      ]
    },
    {
      "cell_type": "markdown",
      "metadata": {
        "id": "DZ8psE5WUIl8",
        "colab_type": "text"
      },
      "source": [
        "#### _1._ lifeExp 열을 연도별로 그룹화하여 평균 계산하기\n",
        ">예를 들어 연도별 lifeExp 열의 평균을 계산하려면 어떻게 해야 할까요? 데이터를 year열로 그룹화하고 lifeExp 열의 평균을 구하면 됩니다. 다음은 데이터프레임의 groupby 메서드에 year 열을 전잘하여 연도별로 그룹화한 다음 lifeExp 열을 지정하여 mean 메서드로 평균을 구한 것입니다."
      ]
    },
    {
      "cell_type": "code",
      "metadata": {
        "id": "4slm_BdZU4fy",
        "colab_type": "code",
        "colab": {
          "base_uri": "https://localhost:8080/",
          "height": 269
        },
        "outputId": "0c523b15-802e-47e7-8be9-b2e17c99b086"
      },
      "source": [
        "print(df.groupby('year')['lifeExp'].mean())"
      ],
      "execution_count": 23,
      "outputs": [
        {
          "output_type": "stream",
          "text": [
            "year\n",
            "1952    49.057620\n",
            "1957    51.507401\n",
            "1962    53.609249\n",
            "1967    55.678290\n",
            "1972    57.647386\n",
            "1977    59.570157\n",
            "1982    61.533197\n",
            "1987    63.212613\n",
            "1992    64.160338\n",
            "1997    65.014676\n",
            "2002    65.694923\n",
            "2007    67.007423\n",
            "Name: lifeExp, dtype: float64\n"
          ],
          "name": "stdout"
        }
      ]
    },
    {
      "cell_type": "markdown",
      "metadata": {
        "id": "rzbwcb5mVWII",
        "colab_type": "text"
      },
      "source": [
        "#### _2._\n",
        ">[ 과정 1 ]에서 작성한 코드가 조금 복자해 보일수도 있을 것입니다. [ 과정 1 ]에서 작성한 코드를 작은 단위로 나누어 살펴보겠습니다. 먼저 데이터프레임을 연도별로 그룹화한 결과를 살펴보겠습니다. groupby 메서드에 year 열 이름을 전달하면 연도별로 그룹화한 country, continent, ..., gdpPercap 열을 모은 데이터프레임을 얻을 수 있습니다."
      ]
    },
    {
      "cell_type": "code",
      "metadata": {
        "id": "XYfvEAdaWEfq",
        "colab_type": "code",
        "colab": {
          "base_uri": "https://localhost:8080/",
          "height": 35
        },
        "outputId": "762e40b0-f04c-4a5a-c523-c4dcd50826c6"
      },
      "source": [
        "grouped_year_df = df.groupby('year')        # 그룹화한 데이터의 자료형은 DataFrameGroupBy 입니다.\n",
        "print(type(grouped_year_df))"
      ],
      "execution_count": 24,
      "outputs": [
        {
          "output_type": "stream",
          "text": [
            "<class 'pandas.core.groupby.generic.DataFrameGroupBy'>\n"
          ],
          "name": "stdout"
        }
      ]
    },
    {
      "cell_type": "markdown",
      "metadata": {
        "id": "5i_b75U1WeIm",
        "colab_type": "text"
      },
      "source": [
        "#### _3._\n",
        ">grouped_year_df를 출력하면 [ 과정 2 ]에서 얻은 데이터프레임이 저장된 메모리의 위치를 알 수 있습니다. 이 결과를 통해 연도별로 그룹화한 데이터는 데이터프레임 형태로 현재 메모리의 [ 0x7f5a4309f4e0 ] 이라는 위치에 저장되어 있음을 알 수 있습니다.\n",
        ">```\n",
        ">print(grouped_year_df)\n",
        "><pandas.core.groupby.generic.DataFrameGroupBy object at 0x7f5a4309f4e0>\n",
        "># 메모리 주소는 실행 환경에 따라 다르게 출력됩니다.\n",
        ">```"
      ]
    },
    {
      "cell_type": "code",
      "metadata": {
        "id": "jSiI2pSsW9bS",
        "colab_type": "code",
        "colab": {
          "base_uri": "https://localhost:8080/",
          "height": 35
        },
        "outputId": "25f9fffd-0003-4e41-cc8f-be0ef63a9871"
      },
      "source": [
        "print(grouped_year_df)"
      ],
      "execution_count": 25,
      "outputs": [
        {
          "output_type": "stream",
          "text": [
            "<pandas.core.groupby.generic.DataFrameGroupBy object at 0x7f5a4309f4e0>\n"
          ],
          "name": "stdout"
        }
      ]
    },
    {
      "cell_type": "markdown",
      "metadata": {
        "id": "GdPUCsF3XytK",
        "colab_type": "text"
      },
      "source": [
        "#### _4._\n",
        "> 이어서 lifeExp 열을 추출한 경과를 살펴보겠습니다. 그룹화한 데이터프레임에서 lifeExp 열을 추출하면 그룹화한 시리즈를 얻을 수 있습니다. 즉, 연도별로 그룹화한 lifeExp열을 얻을 수 있습니다. "
      ]
    },
    {
      "cell_type": "code",
      "metadata": {
        "id": "0LyOo9sOYDLh",
        "colab_type": "code",
        "colab": {
          "base_uri": "https://localhost:8080/",
          "height": 35
        },
        "outputId": "e23b489a-c815-4eb5-dc83-9d3c9931f1d4"
      },
      "source": [
        "grouped_year_df_lifeExp = grouped_year_df['lifeExp']\n",
        "print(type(grouped_year_df_lifeExp))"
      ],
      "execution_count": 27,
      "outputs": [
        {
          "output_type": "stream",
          "text": [
            "<class 'pandas.core.groupby.generic.SeriesGroupBy'>\n"
          ],
          "name": "stdout"
        }
      ]
    },
    {
      "cell_type": "markdown",
      "metadata": {
        "id": "qgl-W3dAYfCj",
        "colab_type": "text"
      },
      "source": [
        "#### _5._\n",
        ">마지막으로 평균을 구하는 mean 메서드를 사용한 결과를 살펴보겠습니다. [ 과정 4 ]에서 연도별로 그룹화한 lifeExp에 mean 메서드를 사용했기 때문에 각 연도별 lifeExp 열의 평균겂을 얻을 수 있습니다."
      ]
    },
    {
      "cell_type": "code",
      "metadata": {
        "id": "rW_QBHlAY3ir",
        "colab_type": "code",
        "colab": {
          "base_uri": "https://localhost:8080/",
          "height": 269
        },
        "outputId": "305b4b39-7420-43c1-93f1-c7fa2f7182a4"
      },
      "source": [
        "mean_lifeExp_by_year = grouped_year_df_lifeExp.mean()\n",
        "print(mean_lifeExp_by_year)"
      ],
      "execution_count": 28,
      "outputs": [
        {
          "output_type": "stream",
          "text": [
            "year\n",
            "1952    49.057620\n",
            "1957    51.507401\n",
            "1962    53.609249\n",
            "1967    55.678290\n",
            "1972    57.647386\n",
            "1977    59.570157\n",
            "1982    61.533197\n",
            "1987    63.212613\n",
            "1992    64.160338\n",
            "1997    65.014676\n",
            "2002    65.694923\n",
            "2007    67.007423\n",
            "Name: lifeExp, dtype: float64\n"
          ],
          "name": "stdout"
        }
      ]
    },
    {
      "cell_type": "markdown",
      "metadata": {
        "id": "8QvYfmI6ZSZ_",
        "colab_type": "text"
      },
      "source": [
        "#### _6._ lifeExp, gdpPercap 열의 평균값을 연도, 지역별로 구룹화하여 한 번에 계산하기\n",
        "> 다음은 [ 과정 1~4 ]를 응용한 코드 입니다. year, continent 열로 그룹화한 데이터프레임에서 lifeExp, gdpPercap 열만 추출하여 평균값을 구한 것입니다"
      ]
    },
    {
      "cell_type": "code",
      "metadata": {
        "id": "bQVYbaGhZ4rg",
        "colab_type": "code",
        "colab": {
          "base_uri": "https://localhost:8080/",
          "height": 269
        },
        "outputId": "9e6e96c4-5065-4945-e250-58cd4872060a"
      },
      "source": [
        "multi_group_var = df.groupby(['year', 'continent'])[['lifeExp', 'gdpPercap']].mean()\n",
        "print(multi_group_var.head(10))\n",
        "print('-'*40)\n",
        "print(type(multi_group_var))"
      ],
      "execution_count": 35,
      "outputs": [
        {
          "output_type": "stream",
          "text": [
            "                  lifeExp     gdpPercap\n",
            "year continent                         \n",
            "1952 Africa     39.135500   1252.572466\n",
            "     Americas   53.279840   4079.062552\n",
            "     Asia       46.314394   5195.484004\n",
            "     Europe     64.408500   5661.057435\n",
            "     Oceania    69.255000  10298.085650\n",
            "1957 Africa     41.266346   1385.236062\n",
            "     Americas   55.960280   4616.043733\n",
            "     Asia       49.318544   5787.732940\n",
            "     Europe     66.703067   6963.012816\n",
            "     Oceania    70.295000  11598.522455\n",
            "----------------------------------------\n",
            "<class 'pandas.core.frame.DataFrame'>\n"
          ],
          "name": "stdout"
        }
      ]
    },
    {
      "cell_type": "markdown",
      "metadata": {
        "id": "83V_ZBNGa_Nj",
        "colab_type": "text"
      },
      "source": [
        "#### _7._ 그룹화한 데이터 개수 세기\n",
        ">이번에는 그룹화한 데이터의 개수가 몇 개인지 알아보겠습니다. 이를 통계에서는 '빈도수'라고 부릅니다. 데이터의 빈도수는 nunique 메서드를 사용하면 쉽게 구할 수 있습니다. 다음은 continent를 기분으로 데이터프레임을 만들고 country 열만 추출하여 데이터의 빈도수를 계산한 것입니다."
      ]
    },
    {
      "cell_type": "code",
      "metadata": {
        "id": "mkhjb1chbqmh",
        "colab_type": "code",
        "colab": {
          "base_uri": "https://localhost:8080/",
          "height": 143
        },
        "outputId": "ff70cbaf-589f-49c0-c775-a61dbe9538f9"
      },
      "source": [
        "print(df.groupby('continent')['country'].nunique())"
      ],
      "execution_count": 36,
      "outputs": [
        {
          "output_type": "stream",
          "text": [
            "continent\n",
            "Africa      52\n",
            "Americas    25\n",
            "Asia        33\n",
            "Europe      30\n",
            "Oceania      2\n",
            "Name: country, dtype: int64\n"
          ],
          "name": "stdout"
        }
      ]
    },
    {
      "cell_type": "markdown",
      "metadata": {
        "id": "W20f4xAtcIs0",
        "colab_type": "text"
      },
      "source": [
        "# 01-4 그래프 그리기\n",
        "> 그래프와 같은 데이터의 시각화는 데이터 분석 과정에서 가장 중요한 요소입니다. 데이터를 시각화하면 데이터를 이해하거나 추이를 파악하는 등의 작업을 할 때 많은 도움이 됩니다. 여기에서는 간단한 그래프를 그려보고 데이터 시각화가 무엇인지 알아보겠습니다. 자세한 내용은 03장에서 설명하겠습니다."
      ]
    },
    {
      "cell_type": "markdown",
      "metadata": {
        "id": "_HPcPeXLcpMM",
        "colab_type": "text"
      },
      "source": [
        "### (1) 그래프 그리기"
      ]
    },
    {
      "cell_type": "markdown",
      "metadata": {
        "id": "HZCgoxAmcseN",
        "colab_type": "text"
      },
      "source": [
        "#### _1._\n",
        ">먼저 그래프와 연관된 라이브러리를 불러옵니다."
      ]
    },
    {
      "cell_type": "code",
      "metadata": {
        "id": "gTN6NVQqc4tX",
        "colab_type": "code",
        "colab": {}
      },
      "source": [
        "%matplotlib inline      \n",
        "# %matplotlib inline은 주피터 노트북에서 그래프를 그리기 위해 사용하는 매직함수 입니다.\n",
        "import matplotlib.pyplot as plt"
      ],
      "execution_count": 0,
      "outputs": []
    },
    {
      "cell_type": "markdown",
      "metadata": {
        "id": "yx43M1aLdXg-",
        "colab_type": "text"
      },
      "source": [
        "#### _2._\n",
        "그런 다음 year 열을 기준으로 그룹화한 데이터프레임에서 lifeExp 열만 추출하여 평균으값을 구합니다."
      ]
    },
    {
      "cell_type": "code",
      "metadata": {
        "id": "9xNql-1LdlGM",
        "colab_type": "code",
        "colab": {
          "base_uri": "https://localhost:8080/",
          "height": 269
        },
        "outputId": "6914bcea-3475-4eda-dd7c-20f7b08d4f0a"
      },
      "source": [
        "global_yearly_life_expectancy = df.groupby('year')['lifeExp'].mean()\n",
        "print(global_yearly_life_expectancy)"
      ],
      "execution_count": 40,
      "outputs": [
        {
          "output_type": "stream",
          "text": [
            "year\n",
            "1952    49.057620\n",
            "1957    51.507401\n",
            "1962    53.609249\n",
            "1967    55.678290\n",
            "1972    57.647386\n",
            "1977    59.570157\n",
            "1982    61.533197\n",
            "1987    63.212613\n",
            "1992    64.160338\n",
            "1997    65.014676\n",
            "2002    65.694923\n",
            "2007    67.007423\n",
            "Name: lifeExp, dtype: float64\n"
          ],
          "name": "stdout"
        }
      ]
    },
    {
      "cell_type": "markdown",
      "metadata": {
        "id": "Anketdpvd9YD",
        "colab_type": "text"
      },
      "source": [
        "#### _3._\n",
        ">[ 과정 2 ]에서 구한 값에 plot 메서드를 사용하면 다음과 같은 그래프가 그려집니다."
      ]
    },
    {
      "cell_type": "code",
      "metadata": {
        "id": "1cYzC0uDd7Rp",
        "colab_type": "code",
        "colab": {
          "base_uri": "https://localhost:8080/",
          "height": 297
        },
        "outputId": "b5bedc57-3505-45b7-ee74-ff3cc7a01f13"
      },
      "source": [
        "global_yearly_life_expectancy.plot()        # 시간에 따른 평균 생평 예측치를 보여주는 판다스 기본그래프"
      ],
      "execution_count": 41,
      "outputs": [
        {
          "output_type": "execute_result",
          "data": {
            "text/plain": [
              "<matplotlib.axes._subplots.AxesSubplot at 0x7f5a42f104e0>"
            ]
          },
          "metadata": {
            "tags": []
          },
          "execution_count": 41
        },
        {
          "output_type": "display_data",
          "data": {
            "image/png": "[encoded data removed]",
            "text/plain": [
              "<Figure size 432x288 with 1 Axes>"
            ]
          },
          "metadata": {
            "tags": []
          }
        }
      ]
    }
  ]
}